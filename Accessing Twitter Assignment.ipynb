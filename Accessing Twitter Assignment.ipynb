{
 "cells": [
  {
   "cell_type": "code",
   "execution_count": 52,
   "metadata": {},
   "outputs": [],
   "source": [
    "import datetime\n",
    "import tweepy\n",
    "from API_keys_Brenden import api_key, api_key_secret, access_token, access_token_secret\n",
    "import time"
   ]
  },
  {
   "cell_type": "code",
   "execution_count": 47,
   "metadata": {},
   "outputs": [],
   "source": [
    "# Authenticate the Tweepy API\n",
    "auth = tweepy.OAuthHandler(api_key,api_key_secret)\n",
    "auth.set_access_token(access_token, access_token_secret)\n",
    "api = tweepy.API(auth,wait_on_rate_limit=True)"
   ]
  },
  {
   "cell_type": "code",
   "execution_count": 48,
   "metadata": {},
   "outputs": [
    {
     "name": "stdout",
     "output_type": "stream",
     "text": [
      "\n",
      "    @Bam1of1 has 144849 followers. \n",
      "    That will take roughly 0 hours and 28.97 minutes\n",
      "    \n",
      "\n",
      "    @JoshAllenQB has 124854 followers. \n",
      "    That will take roughly 0 hours and 24.97 minutes\n",
      "    \n"
     ]
    }
   ],
   "source": [
    "athlete_handles = ['Bam1of1','JoshAllenQB']\n",
    "\n",
    "#We will compare two different athletes, one a young NFL quarterback and the other a young forward in the NBA.\n",
    "#It is quite difficult finding these mid-tier twitter accounts! Most seem to have tens of millions of followers or just a few thousand.\n",
    "#The 'divide' here would be football and basketball\n",
    "\n",
    "# This will iterate through each Twitter handle that we're collecting from\n",
    "for screen_name in athlete_handles:\n",
    "    \n",
    "    # Tells Tweepy we want information on the handle we're collecting from\n",
    "    # The next line specifies which information we want, which in this case is the number of followers \n",
    "    user = api.get_user(screen_name) \n",
    "    followers_count = user.followers_count\n",
    "\n",
    "    # Let's see roughly how long it will take to grab all the follower IDs. \n",
    "    print(f'''\n",
    "    @{screen_name} has {followers_count} followers. \n",
    "    That will take roughly {followers_count/(5000*60):.0f} hours and {followers_count/(5000):.2f} minutes\n",
    "    ''')"
   ]
  },
  {
   "cell_type": "code",
   "execution_count": 49,
   "metadata": {},
   "outputs": [
    {
     "name": "stderr",
     "output_type": "stream",
     "text": [
      "Rate limit reached. Sleeping for: 846\n",
      "Rate limit reached. Sleeping for: 891\n",
      "Rate limit reached. Sleeping for: 892\n"
     ]
    },
    {
     "name": "stdout",
     "output_type": "stream",
     "text": [
      "0:44:33.052805\n"
     ]
    }
   ],
   "source": [
    "# This creates a dictionary containing a list for each Twitter handle we'll be grabbing follower IDs from\n",
    "id_dict = {'Bam1of1' : [],\n",
    "           'JoshAllenQB' : []}\n",
    "\n",
    "# Grabs the time when we start making requests to the API\n",
    "start_time = datetime.datetime.now()\n",
    "\n",
    "# .keys() allows us to iterate through each key in the dictionary\n",
    "for handle in id_dict.keys():\n",
    "    \n",
    "    # Each page contains 5,000 records, so since we know there are much more than 5,000 followers for both\n",
    "    # the Storm and Aces, we must iterate through each of the pages in order to get all follower IDs\n",
    "    # To grab the follower IDs, we will be using followers_ids\n",
    "    for page in tweepy.Cursor(api.followers_ids,\n",
    "                              # This is how we will get around the issue of not being able to grab all ids at once\n",
    "                              # Once the rate limit is hit, we will be notified that we must wait 15 mins (900 secs)\n",
    "                              wait_on_rate_limit=True, wait_on_rate_limit_notify=True, compression=True,\n",
    "                              screen_name=handle).pages():\n",
    "\n",
    "        # The page variable comes back as a list, so we have to use .extend rather than .append\n",
    "        id_dict[handle].extend(page)\n",
    "        \n",
    "        \n",
    "    \n",
    "    \n",
    "        \n",
    "\n",
    "# Let's see how long it took to grab all follower IDs\n",
    "end_time = datetime.datetime.now()\n",
    "elapsed_time = end_time - start_time\n",
    "print(elapsed_time)"
   ]
  },
  {
   "cell_type": "code",
   "execution_count": 54,
   "metadata": {},
   "outputs": [],
   "source": [
    "users_dict = {'Bam1of1' : [], 'JoshAllenQB' : []}\n",
    "\n",
    "for handle in id_dict.keys():\n",
    "    \n",
    "    start=0 #we have feed the API 100 ID's at a time, this will iterate through them\n",
    "    end=0\n",
    "    \n",
    "    followers=[]\n",
    "    while end-1 <= len(id_dict[handle]): #quit when we get past the end of our list\n",
    "        \n",
    "        end += 100 #update the end of our slice\n",
    "        \n",
    "        if end <= len(id_dict[handle]): #split into if else statement to slice correctly\n",
    "            try:\n",
    "                followers_temp = api.lookup_users(id_dict[handle][start:end])\n",
    "            except TweepError as err: \n",
    "                if err.code == 103: #if we get a rate limit error, go to sleep\n",
    "                    print('sleeping, 900 seconds')\n",
    "                    time.sleep(900)\n",
    "        else:\n",
    "            try:\n",
    "                followers_temp = api.lookup_users(id_dict[handle][start:])\n",
    "            except TweepError as err:\n",
    "                if err.code == 103:\n",
    "                    print('sleeping, 900 seconds')\n",
    "                    time.sleep(900)\n",
    "                    \n",
    "        followers.extend(followers_temp)\n",
    "        start = end #update our starting slice index for next loop\n",
    "        \n",
    "        \n",
    "    users_dict[handle].extend(followers)"
   ]
  },
  {
   "cell_type": "code",
   "execution_count": 63,
   "metadata": {},
   "outputs": [],
   "source": [
    "headers = ['screen_name','name','id','location','followers_count','friends_count','description']\n",
    "\n",
    "for handle in users_dict.keys():\n",
    "    \n",
    "    # Descriptions with emoji or non-Roman letters can cause trouble. Encoding your .txt file in utf-8 will help\n",
    "    with open(f'{handle}_followers.txt','w', encoding='utf-8') as out_file:\n",
    "        out_file.write('\\t'.join(headers) + '\\n')\n",
    "        \n",
    "        #loop through user objects, write to file\n",
    "        for idx, user in enumerate(users_dict[handle]):\n",
    "            outline = [user.screen_name, user.name, user.id,user.location,user.followers_count,user.friends_count,user.description]\n",
    "            out_file.write('\\t'.join([str(item) for item in outline]) + '\\n')\n",
    "            "
   ]
  }
 ],
 "metadata": {
  "kernelspec": {
   "display_name": "Python 3",
   "language": "python",
   "name": "python3"
  },
  "language_info": {
   "codemirror_mode": {
    "name": "ipython",
    "version": 3
   },
   "file_extension": ".py",
   "mimetype": "text/x-python",
   "name": "python",
   "nbconvert_exporter": "python",
   "pygments_lexer": "ipython3",
   "version": "3.8.3"
  }
 },
 "nbformat": 4,
 "nbformat_minor": 4
}
